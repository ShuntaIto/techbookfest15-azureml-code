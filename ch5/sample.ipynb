{
  "cells": [
    {
      "cell_type": "markdown",
      "metadata": {
        "id": "AHW5mJEMNcGp"
      },
      "source": [
        "# モデル開発\n",
        "- LightGBMで回帰モデルを作成"
      ]
    },
    {
      "cell_type": "code",
      "execution_count": 46,
      "metadata": {
        "executionInfo": {
          "elapsed": 388,
          "status": "ok",
          "timestamp": 1636614599286,
          "user": {
            "displayName": "李万宇",
            "photoUrl": "https://lh3.googleusercontent.com/a-/AOh14GgL6QlaaH1MxPrzoHKA3ag6tqpBKrPo0E9vJxYj4g=s64",
            "userId": "01804867656979680118"
          },
          "user_tz": -540
        },
        "gather": {
          "logged": 1677721733611
        },
        "id": "AHYyZaqQNXQ6"
      },
      "outputs": [
        {
          "name": "stdout",
          "output_type": "stream",
          "text": [
            "[LightGBM] [Info] Auto-choosing col-wise multi-threading, the overhead of testing was 0.000191 seconds.\n",
            "You can set `force_col_wise=true` to remove the overhead.\n",
            "[LightGBM] [Info] Total Bins 1090\n",
            "[LightGBM] [Info] Number of data points in the train set: 4095, number of used features: 8\n",
            "[LightGBM] [Info] Start training from score 1035127.148176\n",
            "271869.75550026493\n"
          ]
        }
      ],
      "source": [
        "import pandas as pd\n",
        "import numpy as np\n",
        "import pickle\n",
        "import lightgbm as lgb\n",
        "from sklearn.metrics import mean_squared_error\n",
        "import pandas as pd\n",
        "\n",
        "# RMSEを計算する関数\n",
        "def rmse(validation, target):\n",
        "    return np.sqrt(mean_squared_error(validation, target))\n",
        "\n",
        "# 学習データと検証データの読み込み\n",
        "df_train = pd.read_csv(\"../data/Walmert_train.csv\")\n",
        "df_valid = pd.read_csv(\"../data/Walmert_valid.csv\")\n",
        "\n",
        "# Date列からMonth列とDay列を追加し、Date列を削除\n",
        "df_train['Month'] = pd.to_datetime(df_train['Date']).dt.month\n",
        "df_train['Day'] = pd.to_datetime(df_train['Date']).dt.day\n",
        "df_train = df_train.drop(columns='Date')\n",
        "df_valid['Month'] = pd.to_datetime(df_valid['Date']).dt.month\n",
        "df_valid['Day'] = pd.to_datetime(df_valid['Date']).dt.day\n",
        "df_valid = df_valid.drop(columns='Date')\n",
        "\n",
        "# ターゲット変数となる列名を指定\n",
        "col_target = \"Weekly_Sales\"\n",
        "\n",
        "# 学習データと検証データを、特徴量とターゲット変数に分割\n",
        "X_train = df_train.drop(columns=col_target)\n",
        "y_train = df_train[col_target].to_numpy().ravel()\n",
        "X_valid = df_valid.drop(columns=col_target)\n",
        "y_valid = df_valid[col_target].to_numpy().ravel()\n",
        "\n",
        "# LightGBMのデータセットに変換\n",
        "train_data = lgb.Dataset(X_train, label=y_train)\n",
        "\n",
        "# ハイパーパラメータの設定\n",
        "params = {\n",
        "    'objective': 'regression',\n",
        "    'metric': 'rmse',\n",
        "    'num_leaves': 31,\n",
        "    'learning_rate': 0.05\n",
        "}\n",
        "\n",
        "# モデルの学習\n",
        "model = lgb.train(params, train_data, num_boost_round=100)\n",
        "\n",
        "# モデルの保存\n",
        "pickle.dump(model, open(\"./model.pkl\", \"wb\"))\n",
        "\n",
        "# 検証データでRMSEを算出\n",
        "preds = model.predict(X_valid)\n",
        "print(rmse(df_valid[col_target], preds))\n"
      ]
    },
    {
      "cell_type": "markdown",
      "metadata": {},
      "source": [
        "# AzureMLワークスペース接続\n",
        "- 接続のためのクレデンシャル取得"
      ]
    },
    {
      "cell_type": "code",
      "execution_count": 1,
      "metadata": {},
      "outputs": [],
      "source": [
        "from azure.ai.ml import MLClient\n",
        "from azure.identity import DefaultAzureCredential\n",
        "\n",
        "credential = DefaultAzureCredential()"
      ]
    },
    {
      "cell_type": "markdown",
      "metadata": {},
      "source": [
        "- AzureMLワークスペースへ接続するためのハンドルを取得"
      ]
    },
    {
      "cell_type": "code",
      "execution_count": 2,
      "metadata": {},
      "outputs": [],
      "source": [
        "ml_client = MLClient(\n",
        "    credential=credential,\n",
        "    subscription_id=\"27a05524-7a59-453b-88d7-df3ebaa2bcc1\",\n",
        "    resource_group_name=\"azureml-book\",\n",
        "    workspace_name=\"azureml-book\",\n",
        ")"
      ]
    },
    {
      "cell_type": "markdown",
      "metadata": {},
      "source": [
        "# データアセット登録\n",
        "- 学習データをアセット登録"
      ]
    },
    {
      "cell_type": "code",
      "execution_count": 31,
      "metadata": {},
      "outputs": [
        {
          "data": {
            "text/plain": [
              "Data({'path': 'azureml://subscriptions/27a05524-7a59-453b-88d7-df3ebaa2bcc1/resourcegroups/azureml-book/workspaces/azureml-book/datastores/workspaceblobstore/paths/LocalUpload/e0f17b75a81915454376a037b34944c6/Walmert_train.csv', 'skip_validation': False, 'mltable_schema_url': None, 'referenced_uris': None, 'type': 'uri_file', 'is_anonymous': False, 'auto_increment_version': False, 'auto_delete_setting': None, 'name': 'Walmart_store_sales_train', 'description': 'ウォルマートの売上履歴の学習データセット', 'tags': {}, 'properties': {}, 'print_as_yaml': False, 'id': '/subscriptions/27a05524-7a59-453b-88d7-df3ebaa2bcc1/resourceGroups/azureml-book/providers/Microsoft.MachineLearningServices/workspaces/azureml-book/data/Walmart_store_sales_train/versions/1', 'Resource__source_path': '', 'base_path': '/mnt/batch/tasks/shared/LS_root/mounts/clusters/azureml-book/code/Users/yutatatewaki/azureml-book/ch5', 'creation_context': <azure.ai.ml.entities._system_data.SystemData object at 0x7fb1756c1030>, 'serialize': <msrest.serialization.Serializer object at 0x7fb1756c1e70>, 'version': '1', 'latest_version': None, 'datastore': None})"
            ]
          },
          "execution_count": 31,
          "metadata": {},
          "output_type": "execute_result"
        }
      ],
      "source": [
        "from azure.ai.ml.entities import Data\n",
        "from azure.ai.ml.constants import AssetTypes\n",
        "\n",
        "# 登録するデータアセットのバージョン指定(例: \"1\")\n",
        "VERSION = \"1\"\n",
        "\n",
        "# 学習データのパス指定\n",
        "# local: './<path>/<file>' (対象データは自動的にデフォルトのデータストアへアップロードされる)\n",
        "# blob:  'wasbs://<container_name>@<account_name>.blob.core.windows.net/<path>/<file>'\n",
        "# ADLS gen2: 'abfss://<file_system>@<account_name>.dfs.core.windows.net/<path>/<file>'\n",
        "# Datastore: 'azureml://datastores/<data_store_name>/paths/<path>/<file>'\n",
        "path = \"../data/Walmert_train.csv\"\n",
        "\n",
        "# 学習データのアセット定義\n",
        "my_data = Data(\n",
        "    path=path,\n",
        "    type=AssetTypes.URI_FILE,\n",
        "    description=\"ウォルマートの売上履歴　学習データセット\",\n",
        "    name=\"Walmart_store_sales_train\",\n",
        "    version=VERSION,\n",
        ")\n",
        "\n",
        "# 学習データのアセット作成\n",
        "ml_client.data.create_or_update(my_data)"
      ]
    },
    {
      "cell_type": "markdown",
      "metadata": {},
      "source": [
        "- 検証データをアセット登録"
      ]
    },
    {
      "cell_type": "code",
      "execution_count": 35,
      "metadata": {},
      "outputs": [
        {
          "name": "stderr",
          "output_type": "stream",
          "text": [
            "\u001b[32mUploading Walmert_valid.csv\u001b[32m (< 1 MB): 100%|██████████| 65.2k/65.2k [00:00<00:00, 5.25MB/s]\n",
            "\u001b[39m\n",
            "\n"
          ]
        },
        {
          "data": {
            "text/plain": [
              "Data({'path': 'azureml://subscriptions/27a05524-7a59-453b-88d7-df3ebaa2bcc1/resourcegroups/azureml-book/workspaces/azureml-book/datastores/workspaceblobstore/paths/LocalUpload/00ae3501ebdca92d9b5f197a706c47e1/Walmert_valid.csv', 'skip_validation': False, 'mltable_schema_url': None, 'referenced_uris': None, 'type': 'uri_file', 'is_anonymous': False, 'auto_increment_version': False, 'auto_delete_setting': None, 'name': 'Walmart_store_sales_valid', 'description': 'ウォルマートの売上履歴\\u3000検証データセット', 'tags': {}, 'properties': {}, 'print_as_yaml': False, 'id': '/subscriptions/27a05524-7a59-453b-88d7-df3ebaa2bcc1/resourceGroups/azureml-book/providers/Microsoft.MachineLearningServices/workspaces/azureml-book/data/Walmart_store_sales_valid/versions/1', 'Resource__source_path': '', 'base_path': '/mnt/batch/tasks/shared/LS_root/mounts/clusters/azureml-book/code/Users/yutatatewaki/azureml-book/ch5', 'creation_context': <azure.ai.ml.entities._system_data.SystemData object at 0x7fb1756c0790>, 'serialize': <msrest.serialization.Serializer object at 0x7fb1756c0220>, 'version': '1', 'latest_version': None, 'datastore': None})"
            ]
          },
          "execution_count": 35,
          "metadata": {},
          "output_type": "execute_result"
        }
      ],
      "source": [
        "# 検証データのパス指定\n",
        "path = \"../data/Walmert_valid.csv\"\n",
        "\n",
        "# 検証データのアセット定義\n",
        "my_data = Data(\n",
        "    path=path,\n",
        "    type=AssetTypes.URI_FILE,\n",
        "    description=\"ウォルマートの売上履歴　検証データセット\",\n",
        "    name=\"Walmart_store_sales_valid\",\n",
        "    version=VERSION,\n",
        ")\n",
        "\n",
        "# 検証データのアセット作成\n",
        "ml_client.data.create_or_update(my_data)"
      ]
    },
    {
      "cell_type": "markdown",
      "metadata": {},
      "source": [
        "# 環境の作成"
      ]
    },
    {
      "cell_type": "code",
      "execution_count": 12,
      "metadata": {},
      "outputs": [
        {
          "name": "stdout",
          "output_type": "stream",
          "text": [
            "walmart-store-sales-env 環境をAzureMLワークスペースへ登録しました。環境バージョンは 2 です。\n"
          ]
        }
      ],
      "source": [
        "import os\n",
        "from azure.ai.ml.entities import Environment\n",
        "\n",
        "custom_env_name = \"walmart-store-sales-env\"\n",
        "env_dir = \"./env\"\n",
        "\n",
        "custom_job_env = Environment(\n",
        "    name=custom_env_name,\n",
        "    description=\"ウォルマート売上予測モデルの学習ジョブ用の環境\",\n",
        "    tags={\"lightgbm\": \"4.3.0\"},\n",
        "    conda_file=os.path.join(env_dir, \"environment.yml\"),\n",
        "    image=\"mcr.microsoft.com/azureml/openmpi4.1.0-ubuntu20.04:latest\",\n",
        ")\n",
        "custom_job_env = ml_client.environments.create_or_update(custom_job_env)\n",
        "\n",
        "print(\n",
        "    f\"{custom_job_env.name} 環境をAzureMLワークスペースへ登録しました。環境バージョンは {custom_job_env.version} です。\"\n",
        ")"
      ]
    },
    {
      "cell_type": "code",
      "execution_count": 12,
      "metadata": {},
      "outputs": [
        {
          "ename": "AttributeError",
          "evalue": "partially initialized module 'pandas' has no attribute '_pandas_datetime_CAPI' (most likely due to a circular import)",
          "output_type": "error",
          "traceback": [
            "\u001b[0;31m---------------------------------------------------------------------------\u001b[0m",
            "\u001b[0;31mAttributeError\u001b[0m                            Traceback (most recent call last)",
            "Cell \u001b[0;32mIn[12], line 1\u001b[0m\n\u001b[0;32m----> 1\u001b[0m \u001b[38;5;28;01mimport\u001b[39;00m \u001b[38;5;21;01mpandas\u001b[39;00m \u001b[38;5;28;01mas\u001b[39;00m \u001b[38;5;21;01mpd\u001b[39;00m\n\u001b[1;32m      2\u001b[0m \u001b[38;5;28;01mimport\u001b[39;00m \u001b[38;5;21;01mnumpy\u001b[39;00m \u001b[38;5;28;01mas\u001b[39;00m \u001b[38;5;21;01mnp\u001b[39;00m\n\u001b[1;32m      3\u001b[0m \u001b[38;5;28;01mimport\u001b[39;00m \u001b[38;5;21;01mlightgbm\u001b[39;00m \u001b[38;5;28;01mas\u001b[39;00m \u001b[38;5;21;01mlgb\u001b[39;00m\n",
            "File \u001b[0;32m/anaconda/envs/azureml-book-ch5-env/lib/python3.10/site-packages/pandas/__init__.py:49\u001b[0m\n\u001b[1;32m     46\u001b[0m \u001b[38;5;66;03m# let init-time option registration happen\u001b[39;00m\n\u001b[1;32m     47\u001b[0m \u001b[38;5;28;01mimport\u001b[39;00m \u001b[38;5;21;01mpandas\u001b[39;00m\u001b[38;5;21;01m.\u001b[39;00m\u001b[38;5;21;01mcore\u001b[39;00m\u001b[38;5;21;01m.\u001b[39;00m\u001b[38;5;21;01mconfig_init\u001b[39;00m  \u001b[38;5;66;03m# pyright: ignore[reportUnusedImport] # noqa: F401\u001b[39;00m\n\u001b[0;32m---> 49\u001b[0m \u001b[38;5;28;01mfrom\u001b[39;00m \u001b[38;5;21;01mpandas\u001b[39;00m\u001b[38;5;21;01m.\u001b[39;00m\u001b[38;5;21;01mcore\u001b[39;00m\u001b[38;5;21;01m.\u001b[39;00m\u001b[38;5;21;01mapi\u001b[39;00m \u001b[38;5;28;01mimport\u001b[39;00m (\n\u001b[1;32m     50\u001b[0m     \u001b[38;5;66;03m# dtype\u001b[39;00m\n\u001b[1;32m     51\u001b[0m     ArrowDtype,\n\u001b[1;32m     52\u001b[0m     Int8Dtype,\n\u001b[1;32m     53\u001b[0m     Int16Dtype,\n\u001b[1;32m     54\u001b[0m     Int32Dtype,\n\u001b[1;32m     55\u001b[0m     Int64Dtype,\n\u001b[1;32m     56\u001b[0m     UInt8Dtype,\n\u001b[1;32m     57\u001b[0m     UInt16Dtype,\n\u001b[1;32m     58\u001b[0m     UInt32Dtype,\n\u001b[1;32m     59\u001b[0m     UInt64Dtype,\n\u001b[1;32m     60\u001b[0m     Float32Dtype,\n\u001b[1;32m     61\u001b[0m     Float64Dtype,\n\u001b[1;32m     62\u001b[0m     CategoricalDtype,\n\u001b[1;32m     63\u001b[0m     PeriodDtype,\n\u001b[1;32m     64\u001b[0m     IntervalDtype,\n\u001b[1;32m     65\u001b[0m     DatetimeTZDtype,\n\u001b[1;32m     66\u001b[0m     StringDtype,\n\u001b[1;32m     67\u001b[0m     BooleanDtype,\n\u001b[1;32m     68\u001b[0m     \u001b[38;5;66;03m# missing\u001b[39;00m\n\u001b[1;32m     69\u001b[0m     NA,\n\u001b[1;32m     70\u001b[0m     isna,\n\u001b[1;32m     71\u001b[0m     isnull,\n\u001b[1;32m     72\u001b[0m     notna,\n\u001b[1;32m     73\u001b[0m     notnull,\n\u001b[1;32m     74\u001b[0m     \u001b[38;5;66;03m# indexes\u001b[39;00m\n\u001b[1;32m     75\u001b[0m     Index,\n\u001b[1;32m     76\u001b[0m     CategoricalIndex,\n\u001b[1;32m     77\u001b[0m     RangeIndex,\n\u001b[1;32m     78\u001b[0m     MultiIndex,\n\u001b[1;32m     79\u001b[0m     IntervalIndex,\n\u001b[1;32m     80\u001b[0m     TimedeltaIndex,\n\u001b[1;32m     81\u001b[0m     DatetimeIndex,\n\u001b[1;32m     82\u001b[0m     PeriodIndex,\n\u001b[1;32m     83\u001b[0m     IndexSlice,\n\u001b[1;32m     84\u001b[0m     \u001b[38;5;66;03m# tseries\u001b[39;00m\n\u001b[1;32m     85\u001b[0m     NaT,\n\u001b[1;32m     86\u001b[0m     Period,\n\u001b[1;32m     87\u001b[0m     period_range,\n\u001b[1;32m     88\u001b[0m     Timedelta,\n\u001b[1;32m     89\u001b[0m     timedelta_range,\n\u001b[1;32m     90\u001b[0m     Timestamp,\n\u001b[1;32m     91\u001b[0m     date_range,\n\u001b[1;32m     92\u001b[0m     bdate_range,\n\u001b[1;32m     93\u001b[0m     Interval,\n\u001b[1;32m     94\u001b[0m     interval_range,\n\u001b[1;32m     95\u001b[0m     DateOffset,\n\u001b[1;32m     96\u001b[0m     \u001b[38;5;66;03m# conversion\u001b[39;00m\n\u001b[1;32m     97\u001b[0m     to_numeric,\n\u001b[1;32m     98\u001b[0m     to_datetime,\n\u001b[1;32m     99\u001b[0m     to_timedelta,\n\u001b[1;32m    100\u001b[0m     \u001b[38;5;66;03m# misc\u001b[39;00m\n\u001b[1;32m    101\u001b[0m     Flags,\n\u001b[1;32m    102\u001b[0m     Grouper,\n\u001b[1;32m    103\u001b[0m     factorize,\n\u001b[1;32m    104\u001b[0m     unique,\n\u001b[1;32m    105\u001b[0m     value_counts,\n\u001b[1;32m    106\u001b[0m     NamedAgg,\n\u001b[1;32m    107\u001b[0m     array,\n\u001b[1;32m    108\u001b[0m     Categorical,\n\u001b[1;32m    109\u001b[0m     set_eng_float_format,\n\u001b[1;32m    110\u001b[0m     Series,\n\u001b[1;32m    111\u001b[0m     DataFrame,\n\u001b[1;32m    112\u001b[0m )\n\u001b[1;32m    114\u001b[0m \u001b[38;5;28;01mfrom\u001b[39;00m \u001b[38;5;21;01mpandas\u001b[39;00m\u001b[38;5;21;01m.\u001b[39;00m\u001b[38;5;21;01mcore\u001b[39;00m\u001b[38;5;21;01m.\u001b[39;00m\u001b[38;5;21;01mdtypes\u001b[39;00m\u001b[38;5;21;01m.\u001b[39;00m\u001b[38;5;21;01mdtypes\u001b[39;00m \u001b[38;5;28;01mimport\u001b[39;00m SparseDtype\n\u001b[1;32m    116\u001b[0m \u001b[38;5;28;01mfrom\u001b[39;00m \u001b[38;5;21;01mpandas\u001b[39;00m\u001b[38;5;21;01m.\u001b[39;00m\u001b[38;5;21;01mtseries\u001b[39;00m\u001b[38;5;21;01m.\u001b[39;00m\u001b[38;5;21;01mapi\u001b[39;00m \u001b[38;5;28;01mimport\u001b[39;00m infer_freq\n",
            "File \u001b[0;32m/anaconda/envs/azureml-book-ch5-env/lib/python3.10/site-packages/pandas/core/api.py:1\u001b[0m\n\u001b[0;32m----> 1\u001b[0m \u001b[38;5;28;01mfrom\u001b[39;00m \u001b[38;5;21;01mpandas\u001b[39;00m\u001b[38;5;21;01m.\u001b[39;00m\u001b[38;5;21;01m_libs\u001b[39;00m \u001b[38;5;28;01mimport\u001b[39;00m (\n\u001b[1;32m      2\u001b[0m     NaT,\n\u001b[1;32m      3\u001b[0m     Period,\n\u001b[1;32m      4\u001b[0m     Timedelta,\n\u001b[1;32m      5\u001b[0m     Timestamp,\n\u001b[1;32m      6\u001b[0m )\n\u001b[1;32m      7\u001b[0m \u001b[38;5;28;01mfrom\u001b[39;00m \u001b[38;5;21;01mpandas\u001b[39;00m\u001b[38;5;21;01m.\u001b[39;00m\u001b[38;5;21;01m_libs\u001b[39;00m\u001b[38;5;21;01m.\u001b[39;00m\u001b[38;5;21;01mmissing\u001b[39;00m \u001b[38;5;28;01mimport\u001b[39;00m NA\n\u001b[1;32m      9\u001b[0m \u001b[38;5;28;01mfrom\u001b[39;00m \u001b[38;5;21;01mpandas\u001b[39;00m\u001b[38;5;21;01m.\u001b[39;00m\u001b[38;5;21;01mcore\u001b[39;00m\u001b[38;5;21;01m.\u001b[39;00m\u001b[38;5;21;01mdtypes\u001b[39;00m\u001b[38;5;21;01m.\u001b[39;00m\u001b[38;5;21;01mdtypes\u001b[39;00m \u001b[38;5;28;01mimport\u001b[39;00m (\n\u001b[1;32m     10\u001b[0m     ArrowDtype,\n\u001b[1;32m     11\u001b[0m     CategoricalDtype,\n\u001b[0;32m   (...)\u001b[0m\n\u001b[1;32m     14\u001b[0m     PeriodDtype,\n\u001b[1;32m     15\u001b[0m )\n",
            "File \u001b[0;32m/anaconda/envs/azureml-book-ch5-env/lib/python3.10/site-packages/pandas/_libs/__init__.py:18\u001b[0m\n\u001b[1;32m     16\u001b[0m \u001b[38;5;28;01mimport\u001b[39;00m \u001b[38;5;21;01mpandas\u001b[39;00m\u001b[38;5;21;01m.\u001b[39;00m\u001b[38;5;21;01m_libs\u001b[39;00m\u001b[38;5;21;01m.\u001b[39;00m\u001b[38;5;21;01mpandas_parser\u001b[39;00m  \u001b[38;5;66;03m# isort: skip # type: ignore[reportUnusedImport]\u001b[39;00m\n\u001b[1;32m     17\u001b[0m \u001b[38;5;28;01mimport\u001b[39;00m \u001b[38;5;21;01mpandas\u001b[39;00m\u001b[38;5;21;01m.\u001b[39;00m\u001b[38;5;21;01m_libs\u001b[39;00m\u001b[38;5;21;01m.\u001b[39;00m\u001b[38;5;21;01mpandas_datetime\u001b[39;00m  \u001b[38;5;66;03m# noqa: F401 # isort: skip # type: ignore[reportUnusedImport]\u001b[39;00m\n\u001b[0;32m---> 18\u001b[0m \u001b[38;5;28;01mfrom\u001b[39;00m \u001b[38;5;21;01mpandas\u001b[39;00m\u001b[38;5;21;01m.\u001b[39;00m\u001b[38;5;21;01m_libs\u001b[39;00m\u001b[38;5;21;01m.\u001b[39;00m\u001b[38;5;21;01minterval\u001b[39;00m \u001b[38;5;28;01mimport\u001b[39;00m Interval\n\u001b[1;32m     19\u001b[0m \u001b[38;5;28;01mfrom\u001b[39;00m \u001b[38;5;21;01mpandas\u001b[39;00m\u001b[38;5;21;01m.\u001b[39;00m\u001b[38;5;21;01m_libs\u001b[39;00m\u001b[38;5;21;01m.\u001b[39;00m\u001b[38;5;21;01mtslibs\u001b[39;00m \u001b[38;5;28;01mimport\u001b[39;00m (\n\u001b[1;32m     20\u001b[0m     NaT,\n\u001b[1;32m     21\u001b[0m     NaTType,\n\u001b[0;32m   (...)\u001b[0m\n\u001b[1;32m     26\u001b[0m     iNaT,\n\u001b[1;32m     27\u001b[0m )\n",
            "File \u001b[0;32minterval.pyx:1\u001b[0m, in \u001b[0;36minit pandas._libs.interval\u001b[0;34m()\u001b[0m\n",
            "File \u001b[0;32mhashtable.pyx:1\u001b[0m, in \u001b[0;36minit pandas._libs.hashtable\u001b[0;34m()\u001b[0m\n",
            "File \u001b[0;32mmissing.pyx:40\u001b[0m, in \u001b[0;36minit pandas._libs.missing\u001b[0;34m()\u001b[0m\n",
            "\u001b[0;31mAttributeError\u001b[0m: partially initialized module 'pandas' has no attribute '_pandas_datetime_CAPI' (most likely due to a circular import)"
          ]
        }
      ],
      "source": [
        "import pandas as pd\n",
        "import numpy as np\n",
        "import lightgbm as lgb\n",
        "from sklearn.metrics import mean_squared_error\n",
        "import pandas as pd\n",
        "import mlflow\n",
        "import mlflow.lightgbm\n",
        "\n",
        "# ロギング開始\n",
        "mlflow.start_run()\n",
        "\n",
        "# 自動ロギング有効化\n",
        "mlflow.lightgbm.autolog()\n",
        "\n",
        "# 学習データと検証データの読み込み\n",
        "data_asset = ml_client.data.get(name=\"Walmart_store_sales_train\", version=1)\n",
        "df_train = pd.read_csv(data_asset.path)\n",
        "data_asset = ml_client.data.get(name=\"Walmart_store_sales_valid\", version=1)\n",
        "df_valid = pd.read_csv(data_asset.path)\n",
        "\n",
        "# Date列からMonth列とDay列を追加し、Date列を削除\n",
        "df_train['Month'] = pd.to_datetime(df_train['Date']).dt.month\n",
        "df_train['Day'] = pd.to_datetime(df_train['Date']).dt.day\n",
        "df_train = df_train.drop(columns='Date')\n",
        "df_valid['Month'] = pd.to_datetime(df_valid['Date']).dt.month\n",
        "df_valid['Day'] = pd.to_datetime(df_valid['Date']).dt.day\n",
        "df_valid = df_valid.drop(columns='Date')\n",
        "\n",
        "# ターゲット変数となる列名を指定\n",
        "col_target = \"Weekly_Sales\"\n",
        "\n",
        "# 学習データと検証データを、特徴量とターゲット変数に分割\n",
        "X_train = df_train.drop(columns=col_target)\n",
        "y_train = df_train[col_target].to_numpy().ravel()\n",
        "X_valid = df_valid.drop(columns=col_target)\n",
        "y_valid = df_valid[col_target].to_numpy().ravel()\n",
        "\n",
        "# LightGBMのデータセットに変換\n",
        "train_data = lgb.Dataset(X_train, label=y_train)\n",
        "valid_data = lgb.Dataset(X_valid, label=y_valid)\n",
        "\n",
        "# ハイパーパラメータの設定\n",
        "params = {\n",
        "    'objective': 'regression',\n",
        "    'metric': 'rmse',\n",
        "    'num_leaves': 31,\n",
        "    'learning_rate': 0.05\n",
        "}\n",
        "\n",
        "# モデルの学習\n",
        "model = lgb.train(params=params, train_set=train_data,\n",
        "                    num_boost_round=100, valid_sets=valid_data)\n",
        "\n",
        "##########################\n",
        "#<モデル登録>\n",
        "##########################\n",
        "# 学習済みモデルをAzureMLワークスペースへ登録\n",
        "print(\"MLflowでモデル登録\")\n",
        "mlflow.lightgbm.log_model(\n",
        "    lgb_model=model,\n",
        "    registered_model_name='Walmart_store_sales_model',\n",
        "    artifact_path='Walmart_store_sales_model',\n",
        ")\n",
        "\n",
        "###########################\n",
        "#</モデル登録>\n",
        "###########################\n",
        "\n",
        "# ロギング停止\n",
        "mlflow.end_run()\n"
      ]
    },
    {
      "cell_type": "code",
      "execution_count": 23,
      "metadata": {},
      "outputs": [
        {
          "name": "stdout",
          "output_type": "stream",
          "text": [
            "Overwriting ./src/main.py\n"
          ]
        }
      ],
      "source": [
        "%%writefile ./src/main.py\n",
        "import os\n",
        "import argparse\n",
        "import pandas as pd\n",
        "import mlflow\n",
        "import mlflow.sklearn\n",
        "import numpy as np\n",
        "import lightgbm as lgb\n",
        "from azure.ai.ml import MLClient\n",
        "from azure.identity import DefaultAzureCredential\n",
        "\n",
        "\n",
        "def main():\n",
        "    \"\"\"メイン関数\"\"\"\n",
        "\n",
        "    # パラメータ\n",
        "    parser = argparse.ArgumentParser()\n",
        "    parser.add_argument(\"--num_leaves\", type=int, default=31, help=\"学習率\")\n",
        "    parser.add_argument(\"--learning_rate\", type=float, default=0.05, help=\"1本の木の最大葉枚数\")\n",
        "    parser.add_argument(\"--registered_model_name\", type=str, help=\"登録するモデル名\")\n",
        "    parser.add_argument(\"--train_data_path\", type=str, help=\"学習データアセットパス\")\n",
        "    parser.add_argument(\"--valid_data_path\", type=str, help=\"検証データアセットパス\")\n",
        "\n",
        "    args = parser.parse_args()\n",
        "\n",
        "    # AzureMLワークスペースへの接続\n",
        "    credential = DefaultAzureCredential(exclude_workload_identity_credential=True)\n",
        "    ml_client = MLClient(\n",
        "        credential=credential,\n",
        "        subscription_id=\"<SUBSCRIPTION_ID>\",\n",
        "        resource_group_name=\"<RESOURCE_GROUP>\",\n",
        "        workspace_name=\"<AML_WORKSPACE_NAME>\",\n",
        "    )\n",
        "\n",
        "    # ロギング開始\n",
        "    mlflow.start_run()\n",
        "\n",
        "    # 自動ロギング有効化\n",
        "    mlflow.lightgbm.autolog()\n",
        "\n",
        "    ###################\n",
        "    #<データ準備>\n",
        "    ###################\n",
        "\n",
        "    # 学習データと検証データの読み込み\n",
        "    df_train = pd.read_csv(args.train_data_path)\n",
        "    df_valid = pd.read_csv(args.valid_data_path)\n",
        "\n",
        "    # Date列からMonth列とDay列を追加し、Date列を削除\n",
        "    df_train['Month'] = pd.to_datetime(df_train['Date']).dt.month\n",
        "    df_train['Day'] = pd.to_datetime(df_train['Date']).dt.day\n",
        "    df_train = df_train.drop(columns='Date')\n",
        "    df_valid['Month'] = pd.to_datetime(df_valid['Date']).dt.month\n",
        "    df_valid['Day'] = pd.to_datetime(df_valid['Date']).dt.day\n",
        "    df_valid = df_valid.drop(columns='Date')\n",
        "    \n",
        "    # ターゲット変数となる列名を指定\n",
        "    col_target = \"Weekly_Sales\"\n",
        "\n",
        "    # 学習データと検証データを、特徴量とターゲット変数に分割\n",
        "    X_train = df_train.drop(columns=col_target)\n",
        "    y_train = df_train[col_target].to_numpy().ravel()\n",
        "    X_valid = df_valid.drop(columns=col_target)\n",
        "    y_valid = df_valid[col_target].to_numpy().ravel()\n",
        "\n",
        "    # LightGBMのデータセットに変換\n",
        "    train_data = lgb.Dataset(X_train, label=y_train)\n",
        "    valid_data = lgb.Dataset(X_valid, label=y_valid)\n",
        "\n",
        "    ####################\n",
        "    #</データ準備>\n",
        "    ####################\n",
        "\n",
        "    ##################\n",
        "    #<学習>\n",
        "    ##################\n",
        "    # ハイパーパラメータの設定\n",
        "    params = {\n",
        "        'objective': 'regression',\n",
        "        'metric': 'rmse',\n",
        "        'num_leaves': args.num_leaves,\n",
        "        'learning_rate': args.learning_rate\n",
        "    }\n",
        "\n",
        "    # モデルの学習\n",
        "    model = lgb.train(params=params, train_set=train_data,\n",
        "                        num_boost_round=100, valid_sets=valid_data)\n",
        "\n",
        "\n",
        "    ###################\n",
        "    #</学習>\n",
        "    ###################\n",
        "\n",
        "    ##########################\n",
        "    #<モデル登録>\n",
        "    ##########################\n",
        "    # 学習済みモデルをAzureMLワークスペースへ登録\n",
        "    mlflow.lightgbm.log_model(\n",
        "        lgb_model=model,\n",
        "        registered_model_name=args.registered_model_name,\n",
        "        artifact_path=args.registered_model_name\n",
        "    )\n",
        "\n",
        "    ###########################\n",
        "    #</モデル登録>\n",
        "    ###########################\n",
        "\n",
        "    # ロギング停止\n",
        "    mlflow.end_run()\n",
        "\n",
        "if __name__ == \"__main__\":\n",
        "    main()"
      ]
    },
    {
      "cell_type": "code",
      "execution_count": 26,
      "metadata": {},
      "outputs": [],
      "source": [
        "from azure.ai.ml import command\n",
        "from azure.ai.ml import Input\n",
        "from azure.ai.ml.constants import AssetTypes\n",
        "\n",
        "train_data_name = ml_client.data.get(name=\"Walmart_store_sales_train\", version=\"1\")\n",
        "valid_data_name = ml_client.data.get(name=\"Walmart_store_sales_valid\", version=\"1\")\n",
        "\n",
        "# 学習スクリプト引数設定\n",
        "inputs = {\n",
        "    # ジョブの入力として学習データ指定\n",
        "    \"train_data_path\": Input(\n",
        "            type=AssetTypes.URI_FILE,\n",
        "            path=train_data_name.id\n",
        "    ),\n",
        "    # ジョブの入力として検証データ指定\n",
        "    \"valid_data_path\": Input(\n",
        "            type=AssetTypes.URI_FILE,\n",
        "            path=valid_data_name.id\n",
        "    ),\n",
        "    # 1本の木の最大葉枚数\n",
        "    \"num_leaves\" : 30,\n",
        "    # 学習率\n",
        "    \"learning_rate\" : 0.04,\n",
        "    # 登録するモデル名\n",
        "    \"registered_model_name\" : \"Walmart_store_sales_model\"\n",
        "}\n",
        "\n",
        "# 学習ジョブの構成\n",
        "job = command(\n",
        "    # 学習スクリプト引数\n",
        "    inputs=inputs,\n",
        "    # 学習スクリプトの格納場所\n",
        "    code=\"./src/\",\n",
        "    # 学習スクリプトの実行コマンド\n",
        "    #command=\"python main.py --num_leaves ${{inputs.num_leaves}} --learning_rate ${{inputs.learning_rate}} --registered_model_name ${{inputs.registered_model_name}} --train_data_name ${{inputs.train_data_name}} --train_data_version ${{inputs.train_data_version}} --valid_data_name ${{inputs.valid_data_name}} --valid_data_version ${{inputs.valid_data_version}}\",\n",
        "    command=\"python main.py --num_leaves ${{inputs.num_leaves}} --learning_rate ${{inputs.learning_rate}} --registered_model_name ${{inputs.registered_model_name}} --train_data_path ${{inputs.train_data_path}} --valid_data_path ${{inputs.valid_data_path}}\",\n",
        "    # 環境 ( @latest で最新版を指定。 :バージョン数 でバージョン指定も可)\n",
        "    environment=\"walmart-store-sales-env@latest\",\n",
        "    # 実験名\n",
        "    experiment_name=\"train_walmart_store_sales_prediction\",\n",
        "    # ジョブの表示名\n",
        "    display_name=\"walmart_store_sales_prediction\"\n",
        ")"
      ]
    },
    {
      "cell_type": "code",
      "execution_count": 27,
      "metadata": {},
      "outputs": [
        {
          "name": "stdout",
          "output_type": "stream",
          "text": [
            "RunId: witty_chaconia_g10yqj5gbm\n",
            "Web View: https://ml.azure.com/runs/witty_chaconia_g10yqj5gbm?wsid=/subscriptions/27a05524-7a59-453b-88d7-df3ebaa2bcc1/resourcegroups/azureml-book/workspaces/azureml-book\n",
            "\n",
            "Execution Summary\n",
            "=================\n",
            "RunId: witty_chaconia_g10yqj5gbm\n",
            "Web View: https://ml.azure.com/runs/witty_chaconia_g10yqj5gbm?wsid=/subscriptions/27a05524-7a59-453b-88d7-df3ebaa2bcc1/resourcegroups/azureml-book/workspaces/azureml-book\n",
            "\n"
          ]
        }
      ],
      "source": [
        "job = ml_client.create_or_update(job)\n",
        "# ジョブ実行が完了するまで待機\n",
        "ml_client.jobs.stream(job.name)"
      ]
    },
    {
      "cell_type": "code",
      "execution_count": null,
      "metadata": {},
      "outputs": [],
      "source": []
    }
  ],
  "metadata": {
    "colab": {
      "authorship_tag": "ABX9TyPb+eRpM2iB0aNljFjcfHb1",
      "collapsed_sections": [],
      "name": "Prediction.ipynb",
      "provenance": [],
      "toc_visible": true
    },
    "kernel_info": {
      "name": "mlops-workshop-env"
    },
    "kernelspec": {
      "display_name": "azureml-book-ch5-env",
      "language": "python",
      "name": "azureml-book-ch5-env"
    },
    "microsoft": {
      "host": {
        "AzureML": {
          "notebookHasBeenCompleted": true
        }
      }
    },
    "nteract": {
      "version": "nteract-front-end@1.0.0"
    },
    "vscode": {
      "interpreter": {
        "hash": "5eb98d59e4c59396fef2af5f6dfee2d59c26df76c0e5d1b9cac14e208e8ff5df"
      }
    }
  },
  "nbformat": 4,
  "nbformat_minor": 0
}
